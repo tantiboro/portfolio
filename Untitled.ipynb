get_ipython().getoutput("streamlit run app.py")



