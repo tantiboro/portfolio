import pandas as pd
import seaborn as sns
import seaborn.objects as so
import numpy as np
import matplotlib.pyplot as plt
import warnings
warnings.filterwarnings('ignore')
from sklearn.pipeline import Pipeline
from sklearn.preprocessing import StandardScaler
from sklearn.compose import ColumnTransformer
from sklearn.preprocessing import OneHotEncoder


data = pd.read_csv('data/bank-full.csv', sep=';')
data.head()


df = data.copy()
df.info()


g = data['month'].value_counts()
# Declaring exploding pie
explode = [0, 0, 0, 0, 0, 0, 0, 0, 0.4, 0.4, 0.4, 0.4]
plt.figure(figsize=(10,10))
colors = sns.color_palette('pastel')[0:11]
keys= ['may', 'jun', 'jul', 'aug', 'oct', 'nov', 'dec', 'jan', 'feb','mar', 'apr', 'sep']
plt.pie(g, labels=keys, colors=colors,explode=explode,autopct='%.2f%%')
# Set the title
plt.title("Number of Phone Calls Per Month")
#Save the plot
plt.savefig('figure_1.png')
#Show the plot
plt.show()





(
    so.Plot(data, x="month")
    .add(so.Bar(), so.Hist())
)


(
    so.Plot(data, x="age")
    .add(so.Bar(), so.Hist())
)


data.hist(bins=50, figsize=(20,15))
plt.show()


#define Seaborn color palette to use
colors = sns.color_palette('pastel')

#create pie chart
plt.pie(data.y.value_counts(), autopct='%.2f%%')
plt.show()


def convert_target_yes_no_to_int(target):
  if target == "yes":
    return 1
  else:
    return 0


data['y'] = data['y'].apply(convert_target_yes_no_to_int)


data.head()


# make a copy of the original dataset
X = data.copy()


# from pathlib import Path  
# filepath = Path('data/clean_folder/out.csv')  
# filepath.parent.mkdir(parents=True, exist_ok=True)  
# data.to_csv(filepath, index=False)


# divide the dataset into training, validation and test set using sklearn train_test_split
from sklearn.model_selection import train_test_split
X_train, X_test = train_test_split(X, test_size=0.2, random_state=11)


print(f'Training Set: ', X_train.shape)
print(f'Test Set: ', X_test.shape)


y_train = X_train['y']
y_test = X_test['y']


del X_train['y']
del X_test['y']


categorical_types = ['object']  # the categorical types in Pandas
categorical_columns = df.select_dtypes(include=categorical_types).columns.tolist()
# Isolate the numeric features in group for easier processing
numeric_types = ['float64', 'int16', 'int64']  # the numeric types in Pandas
numeric_columns = df.select_dtypes(include=numeric_types).columns.tolist()# data['month'] = data['month'].apply(month_num)


num_attribs = list(numeric_columns)
cat_attribs = list(categorical_columns)


num_attribs








(
    so.Plot(data, x="month")
    .add(so.Bar(), so.Hist())
)



categorical_types = ['object']  # the categorical types in Pandas
categorical_columns = X.select_dtypes(include=categorical_types).columns.tolist()
# Isolate the numeric features in group for easier processing
numeric_types = ['float64', 'int16', 'int64']  # the numeric types in Pandas
numeric_columns = X.select_dtypes(include=numeric_types).columns.tolist()# data['month'] = data['month'].apply(month_num)
#numeric_columns.pop()


categorical_columns


numeric_columns


data[['age', 'balance', 'day', 'duration', 'campaign', 'pdays', 'previous']].corrwith(data.y)*100


global_mean = X.y.mean()


round(global_mean, 3)





for col in categorical_columns:
    df_group = data.groupby(by=col).y.agg(['mean'])
    df_group['diff'] = df_group['mean'] - global_mean
    df_group['rate'] = df_group['mean'] / global_mean
    df_group['global_mean'] = global_mean
    display(df_group.T)


from sklearn.metrics import mutual_info_score
def calculate_mi(series):
    return mutual_info_score(series, data.y)

df_mi = X[categorical_columns].apply(calculate_mi)
df_mi = df_mi.sort_values(ascending=False).to_frame(name='MI')
df_mi*100


X.head()





print(*categorical_columns)


print(*numeric_columns)


X = data[categorical_columns + numeric_columns]
y = data.y


data.y.value_counts()


y_train.value_counts()


data.head()
